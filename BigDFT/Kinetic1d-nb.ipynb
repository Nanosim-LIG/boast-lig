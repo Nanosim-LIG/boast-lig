{
 "cells": [
  {
   "cell_type": "code",
   "execution_count": 1,
   "metadata": {
    "collapsed": false
   },
   "outputs": [
    {
     "data": {
      "text/plain": [
       "true"
      ]
     },
     "execution_count": 1,
     "metadata": {},
     "output_type": "execute_result"
    }
   ],
   "source": [
    "require './GenericConvolution.rb'\n",
    "require './WaveletFilters.rb'"
   ]
  },
  {
   "cell_type": "code",
   "execution_count": 2,
   "metadata": {
    "collapsed": false
   },
   "outputs": [
    {
     "data": {
      "text/plain": [
       ":Kinetic1d"
      ]
     },
     "execution_count": 2,
     "metadata": {},
     "output_type": "execute_result"
    }
   ],
   "source": [
    "openmp = false\n",
    "\n",
    "def Kinetic1d(filter, optims=GenericOptimization::new)\n",
    "  conv_operation = GenericConvolutionOperator1d::new(filter, :kinetic => :inplace, :ld => true, \n",
    "    :narr => true, :a_x => true,:a_y=>true, :a => true, :dot_in => true)\n",
    "  conv_operation.optimize(optims) if optims\n",
    "\n",
    "  p, subops = conv_operation.procedure\n",
    "\n",
    "  kernel = BOAST::CKernel::new\n",
    "\n",
    "  print_header\n",
    "\n",
    "  subops.each_value { |op|\n",
    "    BOAST::pr op\n",
    "    puts \"chosen:\"+ op.name\n",
    "  }\n",
    "  BOAST::pr p\n",
    "\n",
    "  kernel.procedure = p\n",
    "  kernel.cost_function = lambda { |*args| conv_operation.cost(*args) }\n",
    "  return kernel\n",
    "end\n"
   ]
  },
  {
   "cell_type": "code",
   "execution_count": 3,
   "metadata": {
    "collapsed": false
   },
   "outputs": [
    {
     "data": {
      "text/plain": [
       "5"
      ]
     },
     "execution_count": 3,
     "metadata": {},
     "output_type": "execute_result"
    }
   ],
   "source": [
    "n1 = 32\n",
    "n2 = 32\n",
    "n3 = 32\n",
    "\n",
    "optims = GenericOptimization::new(:repeat => 1,\n",
    "  :unroll_range => [1,1], :dimensions => [n1,n2,n3],:openmp => openmp, :mod_arr_test => false,\n",
    "  :tt_arr_test => false)\n",
    "conv_filter = ConvolutionFilter::new('sym8_d2',SYM8_D2,14)\n",
    "5 #to output"
   ]
  },
  {
   "cell_type": "code",
   "execution_count": 5,
   "metadata": {
    "collapsed": false
   },
   "outputs": [
    {
     "name": "stdout",
     "output_type": "stream",
     "text": [
      "d_sym8_d2_p_10_dotin_ld_u1_v1_1_t_f_t: 0.6956960000000001 ms 2.7318598928267517 GFlops\n",
      "d_sym8_d2_p_10_a_dotin_ld_u1_v1_1_t_f_t: 0.722332 ms 2.6311225309137627 GFlops\n",
      "d_sym8_d2_p_10_ain_dotin_ld_u1_v1_1_t_f_t: 0.7228220000000001 ms 2.6293388967131603 GFlops\n",
      "d_sym8_d2_p_10_ay_dotin_ld_u1_v1_1_t_f_t: 0.6928770000000001 ms 2.742974582790308 GFlops\n",
      "d_sym8_d2_p_10_a_ain_dotin_ld_u1_v1_1_t_f_t: 0.739224 ms 2.5709987770959817 GFlops\n",
      "d_sym8_d2_p_10_a_ay_dotin_ld_u1_v1_1_t_f_t: 0.7495740000000001 ms 2.535498830002108 GFlops\n",
      "d_sym8_d2_p_10_ain_ay_dotin_ld_u1_v1_1_t_f_t: 0.73482 ms 2.5864075555918453 GFlops\n",
      "d_sym8_d2_p_10_a_ain_ay_dotin_ld_u1_v1_1_t_f_t: 0.736094 ms 2.581931112059057 GFlops\n",
      "d_sym8_d2_p_01_dotin_ld_u1_v1_0_t_f_t: 0.975513 ms 1.9482508177748528 GFlops\n",
      "d_sym8_d2_p_01_a_dotin_ld_u1_v1_0_t_f_t: 0.9690920000000001 ms 1.961159518394538 GFlops\n",
      "d_sym8_d2_p_01_ain_dotin_ld_u1_v1_0_t_f_t: 1.0016880000000001 ms 1.8973412879060145 GFlops\n",
      "d_sym8_d2_p_01_ay_dotin_ld_u1_v1_0_t_f_t: 0.953307 ms 1.9936326912526605 GFlops\n",
      "d_sym8_d2_p_01_a_ain_dotin_ld_u1_v1_0_t_f_t: 0.971593 ms 1.9561112523453748 GFlops\n",
      "d_sym8_d2_p_01_a_ay_dotin_ld_u1_v1_0_t_f_t: 0.9859840000000001 ms 1.9275606906400102 GFlops\n",
      "d_sym8_d2_p_01_ain_ay_dotin_ld_u1_v1_0_t_f_t: 1.012548 ms 1.8769915105259207 GFlops\n",
      "d_sym8_d2_p_01_a_ain_ay_dotin_ld_u1_v1_0_t_f_t: 0.9906910000000001 ms 1.9184024080162227 GFlops\n",
      "d_sym8_d2_p_201_dotin_ld_u1_v1_2_t_f_t: 0.778157 ms 2.4423657436738346 GFlops\n",
      "d_sym8_d2_p_201_a_dotin_ld_u1_v1_2_t_f_t: 0.868961 ms 2.187145337938066 GFlops\n",
      "d_sym8_d2_p_201_ain_dotin_ld_u1_v1_2_t_f_t: 0.8209700000000001 ms 2.3149981119894756 GFlops\n",
      "d_sym8_d2_p_201_ay_dotin_ld_u1_v1_2_t_f_t: 0.780167 ms 2.4360733022545173 GFlops\n",
      "d_sym8_d2_p_201_a_ain_dotin_ld_u1_v1_2_t_f_t: 1.3975110000000002 ms 1.3599492240132633 GFlops\n",
      "d_sym8_d2_p_201_a_ay_dotin_ld_u1_v1_2_t_f_t: 0.80164 ms 2.3708198193702907 GFlops\n",
      "d_sym8_d2_p_201_ain_ay_dotin_ld_u1_v1_2_t_f_t: 0.8774020000000001 ms 2.1661040207339393 GFlops\n",
      "d_sym8_d2_p_201_a_ain_ay_dotin_ld_u1_v1_2_t_f_t: 0.823761 ms 2.307154623731883 GFlops\n",
      "d_sym8_d2_fg_10_dotin_ld_u1_v1_1_f_f_t: 0.7670460000000001 ms 2.477744489900214 GFlops\n",
      "d_sym8_d2_fg_10_a_dotin_ld_u1_v1_1_f_f_t: 0.8140550000000001 ms 2.3346628913279814 GFlops\n",
      "d_sym8_d2_fg_10_ain_dotin_ld_u1_v1_1_f_f_t: 0.7792890000000001 ms 2.438817948155305 GFlops\n",
      "d_sym8_d2_fg_10_ay_dotin_ld_u1_v1_1_f_f_t: 0.76919 ms 2.4708381544221845 GFlops\n",
      "d_sym8_d2_fg_10_a_ain_dotin_ld_u1_v1_1_f_f_t: 0.802583 ms 2.368034209545929 GFlops\n",
      "d_sym8_d2_fg_10_a_ay_dotin_ld_u1_v1_1_f_f_t: 0.809153 ms 2.3488067151700602 GFlops\n",
      "d_sym8_d2_fg_10_ain_ay_dotin_ld_u1_v1_1_f_f_t: 0.831652 ms 2.285263547733908 GFlops\n",
      "d_sym8_d2_fg_10_a_ain_ay_dotin_ld_u1_v1_1_f_f_t: 0.814857 ms 2.3323650652813925 GFlops\n",
      "d_sym8_d2_fg_01_dotin_ld_u1_v1_0_f_f_t: 1.000137 ms 1.9002836611384237 GFlops\n",
      "d_sym8_d2_fg_01_a_dotin_ld_u1_v1_0_f_f_t: 1.517062 ms 1.2527793854173395 GFlops\n",
      "d_sym8_d2_fg_01_ain_dotin_ld_u1_v1_0_f_f_t: 0.8902510000000001 ms 2.1348406235994117 GFlops\n",
      "d_sym8_d2_fg_01_ay_dotin_ld_u1_v1_0_f_f_t: 1.0260310000000001 ms 1.8523260993088901 GFlops\n",
      "d_sym8_d2_fg_01_a_ain_dotin_ld_u1_v1_0_f_f_t: 0.914127 ms 2.079080915452667 GFlops\n",
      "d_sym8_d2_fg_01_a_ay_dotin_ld_u1_v1_0_f_f_t: 1.027132 ms 1.8503405599280327 GFlops\n",
      "d_sym8_d2_fg_01_ain_ay_dotin_ld_u1_v1_0_f_f_t: 0.9293330000000001 ms 2.0450624264929793 GFlops\n",
      "d_sym8_d2_fg_01_a_ain_ay_dotin_ld_u1_v1_0_f_f_t: 0.9437030000000001 ms 2.013921752924384 GFlops\n",
      "d_sym8_d2_fg_201_dotin_ld_u1_v1_2_f_f_t: 0.7811070000000001 ms 2.4331416822535195 GFlops\n",
      "d_sym8_d2_fg_201_a_dotin_ld_u1_v1_2_f_f_t: 0.9878580000000001 ms 1.923904042888755 GFlops\n",
      "d_sym8_d2_fg_201_ain_dotin_ld_u1_v1_2_f_f_t: 0.8078540000000001 ms 2.3525835113770555 GFlops\n",
      "d_sym8_d2_fg_201_ay_dotin_ld_u1_v1_2_f_f_t: 0.7853770000000001 ms 2.4199129844647853 GFlops\n",
      "d_sym8_d2_fg_201_a_ain_dotin_ld_u1_v1_2_f_f_t: 0.8001530000000001 ms 2.3752257380775923 GFlops\n",
      "d_sym8_d2_fg_201_a_ay_dotin_ld_u1_v1_2_f_f_t: 0.7928830000000001 ms 2.3970043499482268 GFlops\n",
      "d_sym8_d2_fg_201_ain_ay_dotin_ld_u1_v1_2_f_f_t: 0.8121980000000001 ms 2.34000083723427 GFlops\n",
      "d_sym8_d2_fg_201_a_ain_ay_dotin_ld_u1_v1_2_f_f_t: 0.778156 ms 2.4423688823320773 GFlops\n",
      "d_sym8_d2_fs_10_dotin_ld_u1_v1_1_f_f_t: 0.534589 ms 3.5551498440858302 GFlops\n",
      "d_sym8_d2_fs_10_a_dotin_ld_u1_v1_1_f_f_t: 0.551737 ms 3.4446556964640753 GFlops\n",
      "d_sym8_d2_fs_10_ain_dotin_ld_u1_v1_1_f_f_t: 0.557791 ms 3.4072690308735702 GFlops\n",
      "d_sym8_d2_fs_10_ay_dotin_ld_u1_v1_1_f_f_t: 0.5354800000000001 ms 3.549234331814446 GFlops\n",
      "d_sym8_d2_fs_10_a_ain_dotin_ld_u1_v1_1_f_f_t: 0.564672 ms 3.3657486115833617 GFlops\n",
      "d_sym8_d2_fs_10_a_ay_dotin_ld_u1_v1_1_f_f_t: 0.550238 ms 3.454039888193836 GFlops\n",
      "d_sym8_d2_fs_10_ain_ay_dotin_ld_u1_v1_1_f_f_t: 0.5497489999999999 ms 3.4571122457703423 GFlops\n",
      "d_sym8_d2_fs_10_a_ain_ay_dotin_ld_u1_v1_1_f_f_t: 0.565867 ms 3.3586408113567314 GFlops\n",
      "d_sym8_d2_fs_01_dotin_ld_u1_v1_0_f_f_t: 0.870957 ms 2.182132987047581 GFlops\n",
      "d_sym8_d2_fs_01_a_dotin_ld_u1_v1_0_f_f_t: 1.023192 ms 1.8574656564945777 GFlops\n",
      "d_sym8_d2_fs_01_ain_dotin_ld_u1_v1_0_f_f_t: 1.053781 ms 1.8035474163986631 GFlops\n",
      "d_sym8_d2_fs_01_ay_dotin_ld_u1_v1_0_f_f_t: 1.011535 ms 1.8788712204718572 GFlops\n",
      "d_sym8_d2_fs_01_a_ain_dotin_ld_u1_v1_0_f_f_t: 0.917236 ms 2.072033805912546 GFlops\n",
      "d_sym8_d2_fs_01_a_ay_dotin_ld_u1_v1_0_f_f_t: 0.883814 ms 2.150389109020676 GFlops\n",
      "d_sym8_d2_fs_01_ain_ay_dotin_ld_u1_v1_0_f_f_t: 0.9116100000000001 ms 2.084821360011408 GFlops\n",
      "d_sym8_d2_fs_01_a_ain_ay_dotin_ld_u1_v1_0_f_f_t: 0.9073120000000001 ms 2.0946973036838483 GFlops\n",
      "d_sym8_d2_fs_201_dotin_ld_u1_v1_2_f_f_t: 0.665455 ms 2.856006792345087 GFlops\n",
      "d_sym8_d2_fs_201_a_dotin_ld_u1_v1_2_f_f_t: 0.6936770000000001 ms 2.7398111801313862 GFlops\n",
      "d_sym8_d2_fs_201_ain_dotin_ld_u1_v1_2_f_f_t: 0.6756800000000001 ms 2.812787118162444 GFlops\n",
      "d_sym8_d2_fs_201_ay_dotin_ld_u1_v1_2_f_f_t: 0.897812 ms 2.1168618819975675 GFlops\n",
      "d_sym8_d2_fs_201_a_ain_dotin_ld_u1_v1_2_f_f_t: 0.7553110000000001 ms 2.5162403301421534 GFlops\n",
      "d_sym8_d2_fs_201_a_ay_dotin_ld_u1_v1_2_f_f_t: 0.6898550000000001 ms 2.754990541490603 GFlops\n",
      "d_sym8_d2_fs_201_ain_ay_dotin_ld_u1_v1_2_f_f_t: 0.6754789999999999 ms 2.813624109705853 GFlops\n",
      "d_sym8_d2_fs_201_a_ain_ay_dotin_ld_u1_v1_2_f_f_t: 0.747371 ms 2.5429726334042932 GFlops\n",
      "chosen:d_sym8_d2_p_10_dotin_ld_u1_v1_1_t_f_t\n",
      "chosen:d_sym8_d2_p_10_dotin_ld_u1_v1_1_t_f_t_cost\n",
      "chosen:d_sym8_d2_p_10_a_dotin_ld_u1_v1_1_t_f_t\n",
      "chosen:d_sym8_d2_p_10_a_dotin_ld_u1_v1_1_t_f_t_cost\n",
      "chosen:d_sym8_d2_p_10_ain_dotin_ld_u1_v1_1_t_f_t\n",
      "chosen:d_sym8_d2_p_10_ain_dotin_ld_u1_v1_1_t_f_t_cost\n",
      "chosen:d_sym8_d2_p_10_ay_dotin_ld_u1_v1_1_t_f_t\n",
      "chosen:d_sym8_d2_p_10_ay_dotin_ld_u1_v1_1_t_f_t_cost\n",
      "chosen:d_sym8_d2_p_10_a_ain_dotin_ld_u1_v1_1_t_f_t\n",
      "chosen:d_sym8_d2_p_10_a_ain_dotin_ld_u1_v1_1_t_f_t_cost\n",
      "chosen:d_sym8_d2_p_10_a_ay_dotin_ld_u1_v1_1_t_f_t\n",
      "chosen:d_sym8_d2_p_10_a_ay_dotin_ld_u1_v1_1_t_f_t_cost\n",
      "chosen:d_sym8_d2_p_10_ain_ay_dotin_ld_u1_v1_1_t_f_t\n",
      "chosen:d_sym8_d2_p_10_ain_ay_dotin_ld_u1_v1_1_t_f_t_cost\n",
      "chosen:d_sym8_d2_p_10_a_ain_ay_dotin_ld_u1_v1_1_t_f_t\n",
      "chosen:d_sym8_d2_p_10_a_ain_ay_dotin_ld_u1_v1_1_t_f_t_cost\n",
      "chosen:d_sym8_d2_p_01_dotin_ld_u1_v1_0_t_f_t\n",
      "chosen:d_sym8_d2_p_01_dotin_ld_u1_v1_0_t_f_t_cost\n",
      "chosen:d_sym8_d2_p_01_a_dotin_ld_u1_v1_0_t_f_t\n",
      "chosen:d_sym8_d2_p_01_a_dotin_ld_u1_v1_0_t_f_t_cost\n",
      "chosen:d_sym8_d2_p_01_ain_dotin_ld_u1_v1_0_t_f_t\n",
      "chosen:d_sym8_d2_p_01_ain_dotin_ld_u1_v1_0_t_f_t_cost\n",
      "chosen:d_sym8_d2_p_01_ay_dotin_ld_u1_v1_0_t_f_t\n",
      "chosen:d_sym8_d2_p_01_ay_dotin_ld_u1_v1_0_t_f_t_cost\n",
      "chosen:d_sym8_d2_p_01_a_ain_dotin_ld_u1_v1_0_t_f_t\n",
      "chosen:d_sym8_d2_p_01_a_ain_dotin_ld_u1_v1_0_t_f_t_cost\n",
      "chosen:d_sym8_d2_p_01_a_ay_dotin_ld_u1_v1_0_t_f_t\n",
      "chosen:d_sym8_d2_p_01_a_ay_dotin_ld_u1_v1_0_t_f_t_cost\n",
      "chosen:d_sym8_d2_p_01_ain_ay_dotin_ld_u1_v1_0_t_f_t\n",
      "chosen:d_sym8_d2_p_01_ain_ay_dotin_ld_u1_v1_0_t_f_t_cost\n",
      "chosen:d_sym8_d2_p_01_a_ain_ay_dotin_ld_u1_v1_0_t_f_t\n",
      "chosen:d_sym8_d2_p_01_a_ain_ay_dotin_ld_u1_v1_0_t_f_t_cost\n",
      "chosen:d_sym8_d2_p_201_dotin_ld_u1_v1_2_t_f_t\n",
      "chosen:d_sym8_d2_p_201_dotin_ld_u1_v1_2_t_f_t_cost\n",
      "chosen:d_sym8_d2_p_201_a_dotin_ld_u1_v1_2_t_f_t\n",
      "chosen:d_sym8_d2_p_201_a_dotin_ld_u1_v1_2_t_f_t_cost\n",
      "chosen:d_sym8_d2_p_201_ain_dotin_ld_u1_v1_2_t_f_t\n",
      "chosen:d_sym8_d2_p_201_ain_dotin_ld_u1_v1_2_t_f_t_cost\n",
      "chosen:d_sym8_d2_p_201_ay_dotin_ld_u1_v1_2_t_f_t\n",
      "chosen:d_sym8_d2_p_201_ay_dotin_ld_u1_v1_2_t_f_t_cost\n",
      "chosen:d_sym8_d2_p_201_a_ain_dotin_ld_u1_v1_2_t_f_t\n",
      "chosen:d_sym8_d2_p_201_a_ain_dotin_ld_u1_v1_2_t_f_t_cost\n",
      "chosen:d_sym8_d2_p_201_a_ay_dotin_ld_u1_v1_2_t_f_t\n",
      "chosen:d_sym8_d2_p_201_a_ay_dotin_ld_u1_v1_2_t_f_t_cost\n",
      "chosen:d_sym8_d2_p_201_ain_ay_dotin_ld_u1_v1_2_t_f_t\n",
      "chosen:d_sym8_d2_p_201_ain_ay_dotin_ld_u1_v1_2_t_f_t_cost\n",
      "chosen:d_sym8_d2_p_201_a_ain_ay_dotin_ld_u1_v1_2_t_f_t\n",
      "chosen:d_sym8_d2_p_201_a_ain_ay_dotin_ld_u1_v1_2_t_f_t_cost\n",
      "chosen:d_sym8_d2_fg_10_dotin_ld_u1_v1_1_f_f_t\n",
      "chosen:d_sym8_d2_fg_10_dotin_ld_u1_v1_1_f_f_t_cost\n",
      "chosen:d_sym8_d2_fg_10_a_dotin_ld_u1_v1_1_f_f_t\n",
      "chosen:d_sym8_d2_fg_10_a_dotin_ld_u1_v1_1_f_f_t_cost\n",
      "chosen:d_sym8_d2_fg_10_ain_dotin_ld_u1_v1_1_f_f_t\n",
      "chosen:d_sym8_d2_fg_10_ain_dotin_ld_u1_v1_1_f_f_t_cost\n",
      "chosen:d_sym8_d2_fg_10_ay_dotin_ld_u1_v1_1_f_f_t\n",
      "chosen:d_sym8_d2_fg_10_ay_dotin_ld_u1_v1_1_f_f_t_cost\n",
      "chosen:d_sym8_d2_fg_10_a_ain_dotin_ld_u1_v1_1_f_f_t\n",
      "chosen:d_sym8_d2_fg_10_a_ain_dotin_ld_u1_v1_1_f_f_t_cost\n",
      "chosen:d_sym8_d2_fg_10_a_ay_dotin_ld_u1_v1_1_f_f_t\n",
      "chosen:d_sym8_d2_fg_10_a_ay_dotin_ld_u1_v1_1_f_f_t_cost\n",
      "chosen:d_sym8_d2_fg_10_ain_ay_dotin_ld_u1_v1_1_f_f_t\n",
      "chosen:d_sym8_d2_fg_10_ain_ay_dotin_ld_u1_v1_1_f_f_t_cost\n",
      "chosen:d_sym8_d2_fg_10_a_ain_ay_dotin_ld_u1_v1_1_f_f_t\n",
      "chosen:d_sym8_d2_fg_10_a_ain_ay_dotin_ld_u1_v1_1_f_f_t_cost\n",
      "chosen:d_sym8_d2_fg_01_dotin_ld_u1_v1_0_f_f_t\n",
      "chosen:d_sym8_d2_fg_01_dotin_ld_u1_v1_0_f_f_t_cost\n",
      "chosen:d_sym8_d2_fg_01_a_dotin_ld_u1_v1_0_f_f_t\n",
      "chosen:d_sym8_d2_fg_01_a_dotin_ld_u1_v1_0_f_f_t_cost\n",
      "chosen:d_sym8_d2_fg_01_ain_dotin_ld_u1_v1_0_f_f_t\n",
      "chosen:d_sym8_d2_fg_01_ain_dotin_ld_u1_v1_0_f_f_t_cost\n",
      "chosen:d_sym8_d2_fg_01_ay_dotin_ld_u1_v1_0_f_f_t\n",
      "chosen:d_sym8_d2_fg_01_ay_dotin_ld_u1_v1_0_f_f_t_cost\n",
      "chosen:d_sym8_d2_fg_01_a_ain_dotin_ld_u1_v1_0_f_f_t\n",
      "chosen:d_sym8_d2_fg_01_a_ain_dotin_ld_u1_v1_0_f_f_t_cost\n",
      "chosen:d_sym8_d2_fg_01_a_ay_dotin_ld_u1_v1_0_f_f_t\n",
      "chosen:d_sym8_d2_fg_01_a_ay_dotin_ld_u1_v1_0_f_f_t_cost\n",
      "chosen:d_sym8_d2_fg_01_ain_ay_dotin_ld_u1_v1_0_f_f_t\n",
      "chosen:d_sym8_d2_fg_01_ain_ay_dotin_ld_u1_v1_0_f_f_t_cost\n",
      "chosen:d_sym8_d2_fg_01_a_ain_ay_dotin_ld_u1_v1_0_f_f_t\n",
      "chosen:d_sym8_d2_fg_01_a_ain_ay_dotin_ld_u1_v1_0_f_f_t_cost\n",
      "chosen:d_sym8_d2_fg_201_dotin_ld_u1_v1_2_f_f_t\n",
      "chosen:d_sym8_d2_fg_201_dotin_ld_u1_v1_2_f_f_t_cost\n",
      "chosen:d_sym8_d2_fg_201_a_dotin_ld_u1_v1_2_f_f_t\n",
      "chosen:d_sym8_d2_fg_201_a_dotin_ld_u1_v1_2_f_f_t_cost\n",
      "chosen:d_sym8_d2_fg_201_ain_dotin_ld_u1_v1_2_f_f_t\n",
      "chosen:d_sym8_d2_fg_201_ain_dotin_ld_u1_v1_2_f_f_t_cost\n",
      "chosen:d_sym8_d2_fg_201_ay_dotin_ld_u1_v1_2_f_f_t\n",
      "chosen:d_sym8_d2_fg_201_ay_dotin_ld_u1_v1_2_f_f_t_cost\n",
      "chosen:d_sym8_d2_fg_201_a_ain_dotin_ld_u1_v1_2_f_f_t\n",
      "chosen:d_sym8_d2_fg_201_a_ain_dotin_ld_u1_v1_2_f_f_t_cost\n",
      "chosen:d_sym8_d2_fg_201_a_ay_dotin_ld_u1_v1_2_f_f_t\n",
      "chosen:d_sym8_d2_fg_201_a_ay_dotin_ld_u1_v1_2_f_f_t_cost\n",
      "chosen:d_sym8_d2_fg_201_ain_ay_dotin_ld_u1_v1_2_f_f_t\n",
      "chosen:d_sym8_d2_fg_201_ain_ay_dotin_ld_u1_v1_2_f_f_t_cost\n",
      "chosen:d_sym8_d2_fg_201_a_ain_ay_dotin_ld_u1_v1_2_f_f_t\n",
      "chosen:d_sym8_d2_fg_201_a_ain_ay_dotin_ld_u1_v1_2_f_f_t_cost\n",
      "chosen:d_sym8_d2_fs_10_dotin_ld_u1_v1_1_f_f_t\n",
      "chosen:d_sym8_d2_fs_10_dotin_ld_u1_v1_1_f_f_t_cost\n",
      "chosen:d_sym8_d2_fs_10_a_dotin_ld_u1_v1_1_f_f_t\n",
      "chosen:d_sym8_d2_fs_10_a_dotin_ld_u1_v1_1_f_f_t_cost\n",
      "chosen:d_sym8_d2_fs_10_ain_dotin_ld_u1_v1_1_f_f_t\n",
      "chosen:d_sym8_d2_fs_10_ain_dotin_ld_u1_v1_1_f_f_t_cost\n",
      "chosen:d_sym8_d2_fs_10_ay_dotin_ld_u1_v1_1_f_f_t\n",
      "chosen:d_sym8_d2_fs_10_ay_dotin_ld_u1_v1_1_f_f_t_cost\n",
      "chosen:d_sym8_d2_fs_10_a_ain_dotin_ld_u1_v1_1_f_f_t\n",
      "chosen:d_sym8_d2_fs_10_a_ain_dotin_ld_u1_v1_1_f_f_t_cost\n",
      "chosen:d_sym8_d2_fs_10_a_ay_dotin_ld_u1_v1_1_f_f_t\n",
      "chosen:d_sym8_d2_fs_10_a_ay_dotin_ld_u1_v1_1_f_f_t_cost\n",
      "chosen:d_sym8_d2_fs_10_ain_ay_dotin_ld_u1_v1_1_f_f_t\n",
      "chosen:d_sym8_d2_fs_10_ain_ay_dotin_ld_u1_v1_1_f_f_t_cost\n",
      "chosen:d_sym8_d2_fs_10_a_ain_ay_dotin_ld_u1_v1_1_f_f_t\n",
      "chosen:d_sym8_d2_fs_10_a_ain_ay_dotin_ld_u1_v1_1_f_f_t_cost\n",
      "chosen:d_sym8_d2_fs_01_dotin_ld_u1_v1_0_f_f_t\n",
      "chosen:d_sym8_d2_fs_01_dotin_ld_u1_v1_0_f_f_t_cost\n",
      "chosen:d_sym8_d2_fs_01_a_dotin_ld_u1_v1_0_f_f_t\n",
      "chosen:d_sym8_d2_fs_01_a_dotin_ld_u1_v1_0_f_f_t_cost\n",
      "chosen:d_sym8_d2_fs_01_ain_dotin_ld_u1_v1_0_f_f_t\n",
      "chosen:d_sym8_d2_fs_01_ain_dotin_ld_u1_v1_0_f_f_t_cost\n",
      "chosen:d_sym8_d2_fs_01_ay_dotin_ld_u1_v1_0_f_f_t\n",
      "chosen:d_sym8_d2_fs_01_ay_dotin_ld_u1_v1_0_f_f_t_cost\n",
      "chosen:d_sym8_d2_fs_01_a_ain_dotin_ld_u1_v1_0_f_f_t\n",
      "chosen:d_sym8_d2_fs_01_a_ain_dotin_ld_u1_v1_0_f_f_t_cost\n",
      "chosen:d_sym8_d2_fs_01_a_ay_dotin_ld_u1_v1_0_f_f_t\n",
      "chosen:d_sym8_d2_fs_01_a_ay_dotin_ld_u1_v1_0_f_f_t_cost\n",
      "chosen:d_sym8_d2_fs_01_ain_ay_dotin_ld_u1_v1_0_f_f_t\n",
      "chosen:d_sym8_d2_fs_01_ain_ay_dotin_ld_u1_v1_0_f_f_t_cost\n",
      "chosen:d_sym8_d2_fs_01_a_ain_ay_dotin_ld_u1_v1_0_f_f_t\n",
      "chosen:d_sym8_d2_fs_01_a_ain_ay_dotin_ld_u1_v1_0_f_f_t_cost\n",
      "chosen:d_sym8_d2_fs_201_dotin_ld_u1_v1_2_f_f_t\n",
      "chosen:d_sym8_d2_fs_201_dotin_ld_u1_v1_2_f_f_t_cost\n",
      "chosen:d_sym8_d2_fs_201_a_dotin_ld_u1_v1_2_f_f_t\n",
      "chosen:d_sym8_d2_fs_201_a_dotin_ld_u1_v1_2_f_f_t_cost\n",
      "chosen:d_sym8_d2_fs_201_ain_dotin_ld_u1_v1_2_f_f_t\n",
      "chosen:d_sym8_d2_fs_201_ain_dotin_ld_u1_v1_2_f_f_t_cost\n",
      "chosen:d_sym8_d2_fs_201_ay_dotin_ld_u1_v1_2_f_f_t\n",
      "chosen:d_sym8_d2_fs_201_ay_dotin_ld_u1_v1_2_f_f_t_cost\n",
      "chosen:d_sym8_d2_fs_201_a_ain_dotin_ld_u1_v1_2_f_f_t\n",
      "chosen:d_sym8_d2_fs_201_a_ain_dotin_ld_u1_v1_2_f_f_t_cost\n",
      "chosen:d_sym8_d2_fs_201_a_ay_dotin_ld_u1_v1_2_f_f_t\n",
      "chosen:d_sym8_d2_fs_201_a_ay_dotin_ld_u1_v1_2_f_f_t_cost\n",
      "chosen:d_sym8_d2_fs_201_ain_ay_dotin_ld_u1_v1_2_f_f_t\n",
      "chosen:d_sym8_d2_fs_201_ain_ay_dotin_ld_u1_v1_2_f_f_t_cost\n",
      "chosen:d_sym8_d2_fs_201_a_ain_ay_dotin_ld_u1_v1_2_f_f_t\n",
      "chosen:d_sym8_d2_fs_201_a_ain_ay_dotin_ld_u1_v1_2_f_f_t_cost\n",
      "chosen:d_s0s0_1d_sym8_d2_dotin_cost\n"
     ]
    },
    {
     "data": {
      "text/plain": [
       "5"
      ]
     },
     "execution_count": 5,
     "metadata": {},
     "output_type": "execute_result"
    }
   ],
   "source": [
    "kkin8 = Kinetic1d( conv_filter, optims )\n",
    "5"
   ]
  },
  {
   "cell_type": "code",
   "execution_count": null,
   "metadata": {
    "collapsed": false
   },
   "outputs": [],
   "source": []
  },
  {
   "cell_type": "code",
   "execution_count": 6,
   "metadata": {
    "collapsed": false,
    "scrolled": true
   },
   "outputs": [
    {
     "data": {
      "text/plain": [
       "5"
      ]
     },
     "execution_count": 6,
     "metadata": {},
     "output_type": "execute_result"
    }
   ],
   "source": [
    "#puts kkin8\n",
    "kkin8.build(:openmp => openmp)\n",
    "5"
   ]
  },
  {
   "cell_type": "code",
   "execution_count": 7,
   "metadata": {
    "collapsed": false
   },
   "outputs": [
    {
     "data": {
      "text/plain": [
       "true"
      ]
     },
     "execution_count": 7,
     "metadata": {},
     "output_type": "execute_result"
    }
   ],
   "source": [
    "require './Kinetic.rb'"
   ]
  },
  {
   "cell_type": "code",
   "execution_count": 8,
   "metadata": {
    "collapsed": false,
    "scrolled": true
   },
   "outputs": [
    {
     "data": {
      "text/plain": [
       "5"
      ]
     },
     "execution_count": 8,
     "metadata": {},
     "output_type": "execute_result"
    }
   ],
   "source": [
    "kref = kinetic_per_ref_optim\n",
    "5"
   ]
  },
  {
   "cell_type": "code",
   "execution_count": 9,
   "metadata": {
    "collapsed": false
   },
   "outputs": [
    {
     "data": {
      "text/plain": [
       "5"
      ]
     },
     "execution_count": 9,
     "metadata": {},
     "output_type": "execute_result"
    }
   ],
   "source": [
    "kref.build(:openmp => openmp)\n",
    "5"
   ]
  },
  {
   "cell_type": "code",
   "execution_count": 10,
   "metadata": {
    "collapsed": false
   },
   "outputs": [
    {
     "data": {
      "text/plain": [
       "0.5"
      ]
     },
     "execution_count": 10,
     "metadata": {},
     "output_type": "execute_result"
    }
   ],
   "source": [
    "input = ANArray.float(32,n1,n2,n3).random! #fill!(1.0)\n",
    "output_ref = ANArray.float(32,n1,n2,n3)\n",
    "output = ANArray.float(32,n1,n2,n3)\n",
    "hgrid = NArray.float(3)\n",
    "hgrid[0] = 0.5\n",
    "hgrid[1] = 0.6\n",
    "hgrid[2] = 0.7\n",
    "c=0.5"
   ]
  },
  {
   "cell_type": "code",
   "execution_count": 11,
   "metadata": {
    "collapsed": false
   },
   "outputs": [
    {
     "data": {
      "text/plain": [
       "{:duration=>0.001260262, :energy=>{:\"0.package-0\"=>0.037415, :\"0.core\"=>0.035766, :\"0.uncore\"=>0.0, :\"0.dram\"=>0.0035399999999999997}}"
      ]
     },
     "execution_count": 11,
     "metadata": {},
     "output_type": "execute_result"
    }
   ],
   "source": [
    "stats = kref.run(n1-1, n2-1, n3-1, hgrid, input, output_ref, c)"
   ]
  },
  {
   "cell_type": "code",
   "execution_count": 12,
   "metadata": {
    "collapsed": false
   },
   "outputs": [
    {
     "name": "stdout",
     "output_type": "stream",
     "text": [
      "0.9026809755342587\n"
     ]
    },
    {
     "data": {
      "text/plain": [
       "6.066264643565508"
      ]
     },
     "execution_count": 12,
     "metadata": {},
     "output_type": "execute_result"
    }
   ],
   "source": [
    "puts input[0]\n",
    "output_ref[0]"
   ]
  },
  {
   "cell_type": "code",
   "execution_count": 13,
   "metadata": {
    "collapsed": false
   },
   "outputs": [
    {
     "data": {
      "text/plain": [
       "0..2"
      ]
     },
     "execution_count": 13,
     "metadata": {},
     "output_type": "execute_result"
    }
   ],
   "source": [
    "ndims=NArray.int(3)\n",
    "ndims[0]=n1\n",
    "ndims[1]=n2\n",
    "ndims[2]=n3\n",
    "bc = BC::PERIODIC\n",
    "c=0.5\n",
    "eval=0.0\n",
    "scal=NArray.float(3)\n",
    "(0..2).each{ |ind| scal[ind] = -0.5 / (hgrid[ind]*hgrid[ind])   }"
   ]
  },
  {
   "cell_type": "code",
   "execution_count": 1,
   "metadata": {
    "collapsed": false,
    "scrolled": true
   },
   "outputs": [],
   "source": [
    "#kkin8"
   ]
  },
  {
   "cell_type": "markdown",
   "metadata": {},
   "source": [
    "1D operation in the x direction"
   ]
  },
  {
   "cell_type": "code",
   "execution_count": 14,
   "metadata": {
    "collapsed": false
   },
   "outputs": [
    {
     "data": {
      "text/plain": [
       "{:reference_return=>{:dot_in=>19729.2606953027}, :duration=>0.0007462730000000001, :energy=>{:\"0.package-0\"=>0.0, :\"0.core\"=>0.0, :\"0.uncore\"=>0.0, :\"0.dram\"=>0.0}}"
      ]
     },
     "execution_count": 14,
     "metadata": {},
     "output_type": "execute_result"
    }
   ],
   "source": [
    "stat=kkin8.run(3,0,ndims,bc,ndims,ndims,1,input,output,scal[0],c,0.0,eval) # out= scal[0] * d2x [in] + c * in + 0.0 * out"
   ]
  },
  {
   "cell_type": "code",
   "execution_count": 15,
   "metadata": {
    "collapsed": false
   },
   "outputs": [
    {
     "name": "stdout",
     "output_type": "stream",
     "text": [
      "19729.2606953027\n"
     ]
    }
   ],
   "source": [
    "eval=stat[:reference_return][:dot_in]\n",
    "puts eval"
   ]
  },
  {
   "cell_type": "markdown",
   "metadata": {
    "collapsed": true
   },
   "source": [
    "y and z direction"
   ]
  },
  {
   "cell_type": "code",
   "execution_count": 16,
   "metadata": {
    "collapsed": false
   },
   "outputs": [
    {
     "data": {
      "text/plain": [
       "59187.7820859081"
      ]
     },
     "execution_count": 16,
     "metadata": {},
     "output_type": "execute_result"
    }
   ],
   "source": [
    "kkin8.run(3,1,ndims,bc,ndims,ndims,1,input,output,scal[1],0.0,1.0,eval) # out= scal[1]* d2y[in]  + 1.0 * out\n",
    "eval+=stat[:reference_return][:dot_in]\n",
    "kkin8.run(3,2,ndims,bc,ndims,ndims,1,input,output,scal[2],0.0,1.0,eval) # out= scal[2]* d2z[in]  + 1.0 * out\n",
    "eval+=stat[:reference_return][:dot_in]\n"
   ]
  },
  {
   "cell_type": "code",
   "execution_count": 17,
   "metadata": {
    "collapsed": false
   },
   "outputs": [
    {
     "name": "stdout",
     "output_type": "stream",
     "text": [
      "0.9026809755342587\n"
     ]
    },
    {
     "data": {
      "text/plain": [
       "6.066264643565508"
      ]
     },
     "execution_count": 17,
     "metadata": {},
     "output_type": "execute_result"
    }
   ],
   "source": [
    "puts input[0]\n",
    "output[0]"
   ]
  },
  {
   "cell_type": "code",
   "execution_count": 18,
   "metadata": {
    "collapsed": false
   },
   "outputs": [
    {
     "data": {
      "text/plain": [
       "12429.4342380407"
      ]
     },
     "execution_count": 18,
     "metadata": {},
     "output_type": "execute_result"
    }
   ],
   "source": [
    "eval*hgrid[0]*hgrid[1]*hgrid[2]"
   ]
  },
  {
   "cell_type": "code",
   "execution_count": 19,
   "metadata": {
    "collapsed": false
   },
   "outputs": [
    {
     "name": "stdout",
     "output_type": "stream",
     "text": [
      "ok\n"
     ]
    }
   ],
   "source": [
    "epsilon=1.0e-13\n",
    "diff = (output_ref - output).abs\n",
    "diff.each { |elem|\n",
    "  raise \"Warning: residue too big: #{elem}\" if elem > epsilon\n",
    "}\n",
    "puts 'ok'"
   ]
  },
  {
   "cell_type": "code",
   "execution_count": 36,
   "metadata": {
    "collapsed": false
   },
   "outputs": [
    {
     "data": {
      "text/plain": [
       "915430"
      ]
     },
     "execution_count": 36,
     "metadata": {},
     "output_type": "execute_result"
    }
   ],
   "source": [
    "File.open('Kinetic8.f90','w'){ | f |\n",
    "  f.write(kkin8.to_s)\n",
    "  }"
   ]
  },
  {
   "cell_type": "code",
   "execution_count": null,
   "metadata": {
    "collapsed": true
   },
   "outputs": [],
   "source": []
  }
 ],
 "metadata": {
  "kernelspec": {
   "display_name": "Ruby 2.3.1",
   "language": "ruby",
   "name": "ruby"
  },
  "language_info": {
   "file_extension": ".rb",
   "mimetype": "application/x-ruby",
   "name": "ruby",
   "version": "2.3.1"
  }
 },
 "nbformat": 4,
 "nbformat_minor": 1
}
